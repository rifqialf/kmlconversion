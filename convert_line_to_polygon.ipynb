{
 "cells": [
  {
   "cell_type": "markdown",
   "metadata": {},
   "source": [
    "### Installing GeoPandas module"
   ]
  },
  {
   "cell_type": "markdown",
   "metadata": {},
   "source": [
    "[GeoPandas](https://geopandas.org/en/stable/) is an open source project to make working with geospatial data in python easier. GeoPandas extends the datatypes used by pandas to allow spatial operations on geometric types. Geometric operations are performed by shapely. Geopandas further depends on pyogrio for file access and matplotlib for plotting."
   ]
  },
  {
   "cell_type": "markdown",
   "metadata": {},
   "source": [
    "Install GeoPandas by deleting the # symbol on the code below, then Run the code. You only need to install GeoPandas once."
   ]
  },
  {
   "cell_type": "code",
   "execution_count": null,
   "metadata": {},
   "outputs": [],
   "source": [
    "# !pip install geopandas"
   ]
  },
  {
   "cell_type": "markdown",
   "metadata": {},
   "source": [
    "## Performing the conversion"
   ]
  },
  {
   "cell_type": "code",
   "execution_count": null,
   "metadata": {},
   "outputs": [],
   "source": [
    "import geopandas as gpd"
   ]
  },
  {
   "cell_type": "code",
   "execution_count": null,
   "metadata": {},
   "outputs": [],
   "source": [
    "import fiona\n",
    "\n",
    "# Enable KML support in Fiona which is disabled by default\n",
    "try:\n",
    "    gpd.io.file.fiona.drvsupport.supported_drivers['kml'] = 'rw'\n",
    "    gpd.io.file.fiona.drvsupport.supported_drivers['KML'] = 'rw'\n",
    "    gpd.io.file.fiona.drvsupport.supported_drivers['LIBKML'] = 'rw'\n",
    "except AttributeError:\n",
    "    fiona.drvsupport.supported_drivers['kml'] = 'rw'\n",
    "    fiona.drvsupport.supported_drivers['KML'] = 'rw'\n",
    "    fiona.drvsupport.supported_drivers['LIBKML'] = 'rw'"
   ]
  },
  {
   "cell_type": "code",
   "execution_count": null,
   "metadata": {},
   "outputs": [],
   "source": [
    "input_filepath = \"./field_001.kml\"\n",
    "output_filepath = \"./field_001_polygon.kml\""
   ]
  },
  {
   "cell_type": "code",
   "execution_count": null,
   "metadata": {},
   "outputs": [],
   "source": [
    "# Load KML file\n",
    "gdf = gpd.read_file(input_filepath, driver=\"KML\")\n",
    "gdf"
   ]
  },
  {
   "cell_type": "code",
   "execution_count": null,
   "metadata": {},
   "outputs": [],
   "source": [
    "# Apply convex hull to each geometry to ensure it's enclosed as a polygon\n",
    "polygon = gdf.geometry.unary_union.convex_hull\n",
    "polygon_gdf = gpd.GeoDataFrame(geometry=[polygon])\n",
    "polygon_gdf"
   ]
  },
  {
   "cell_type": "code",
   "execution_count": null,
   "metadata": {},
   "outputs": [],
   "source": [
    "# Save the modified GeoDataFrame to a new KML file\n",
    "polygon_gdf.to_file(output_filepath, driver='KML')\n",
    "print(\"GeoDataFrame saved as KML file:\", output_filepath)"
   ]
  },
  {
   "cell_type": "code",
   "execution_count": null,
   "metadata": {},
   "outputs": [],
   "source": []
  }
 ],
 "metadata": {
  "kernelspec": {
   "display_name": "Python 3",
   "language": "python",
   "name": "python3"
  },
  "language_info": {
   "codemirror_mode": {
    "name": "ipython",
    "version": 3
   },
   "file_extension": ".py",
   "mimetype": "text/x-python",
   "name": "python",
   "nbconvert_exporter": "python",
   "pygments_lexer": "ipython3",
   "version": "3.10.7"
  }
 },
 "nbformat": 4,
 "nbformat_minor": 4
}
